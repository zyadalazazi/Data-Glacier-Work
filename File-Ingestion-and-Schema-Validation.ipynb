{
  "nbformat": 4,
  "nbformat_minor": 0,
  "metadata": {
    "colab": {
      "name": "Week6.ipynb",
      "provenance": [],
      "collapsed_sections": [],
      "authorship_tag": "ABX9TyOgfKSwsN5y6NqfRDKqfrL8",
      "include_colab_link": true
    },
    "kernelspec": {
      "name": "python3",
      "display_name": "Python 3"
    },
    "language_info": {
      "name": "python"
    }
  },
  "cells": [
    {
      "cell_type": "markdown",
      "metadata": {
        "id": "view-in-github",
        "colab_type": "text"
      },
      "source": [
        "<a href=\"https://colab.research.google.com/github/zyadalazazi/Data-Glacier-Work/blob/main/File-Ingestion-and-Schema-Validation.ipynb\" target=\"_parent\"><img src=\"https://colab.research.google.com/assets/colab-badge.svg\" alt=\"Open In Colab\"/></a>"
      ]
    },
    {
      "cell_type": "markdown",
      "metadata": {
        "id": "__RjY8rWPlxb"
      },
      "source": [
        "# File Ingestion and Schema Validation"
      ]
    },
    {
      "cell_type": "code",
      "metadata": {
        "colab": {
          "base_uri": "https://localhost:8080/"
        },
        "id": "N1DGnYLaP2E5",
        "outputId": "da4b8232-42b7-4037-c940-a532b06b4504"
      },
      "source": [
        "\n",
        "from google.colab import drive\n",
        "drive.mount('/content/gdrive')"
      ],
      "execution_count": 1,
      "outputs": [
        {
          "output_type": "stream",
          "text": [
            "Mounted at /content/gdrive\n"
          ],
          "name": "stdout"
        }
      ]
    },
    {
      "cell_type": "code",
      "metadata": {
        "id": "1-2_3Nowm9rJ"
      },
      "source": [
        "import os\n",
        "os.environ['KAGGLE_CONFIG_DIR'] = \"/content/gdrive/My Drive/Kaggle\""
      ],
      "execution_count": 2,
      "outputs": []
    },
    {
      "cell_type": "code",
      "metadata": {
        "colab": {
          "base_uri": "https://localhost:8080/"
        },
        "id": "t_Fn_ABCVpO5",
        "outputId": "3a163de3-7bfe-493b-9480-dbe3b78b1290"
      },
      "source": [
        "cd /content/gdrive/My Drive/Kaggle"
      ],
      "execution_count": 3,
      "outputs": [
        {
          "output_type": "stream",
          "text": [
            "/content/gdrive/My Drive/Kaggle\n"
          ],
          "name": "stdout"
        }
      ]
    },
    {
      "cell_type": "code",
      "metadata": {
        "id": "L3pc0gFlVwhJ",
        "colab": {
          "base_uri": "https://localhost:8080/"
        },
        "outputId": "4ff86fe2-686d-49f3-887a-3729c0fc9bd8"
      },
      "source": [
        "!kaggle datasets download -d solarmainframe/ids-intrusion-csv"
      ],
      "execution_count": null,
      "outputs": [
        {
          "output_type": "stream",
          "text": [
            "Traceback (most recent call last):\n",
            "  File \"/usr/local/bin/kaggle\", line 5, in <module>\n",
            "    from kaggle.cli import main\n",
            "  File \"/usr/local/lib/python2.7/dist-packages/kaggle/__init__.py\", line 23, in <module>\n",
            "    api.authenticate()\n",
            "  File \"/usr/local/lib/python2.7/dist-packages/kaggle/api/kaggle_api_extended.py\", line 146, in authenticate\n",
            "    self.config_file, self.config_dir))\n",
            "IOError: Could not find kaggle.json. Make sure it's located in /root/.kaggle. Or use the environment method.\n"
          ],
          "name": "stdout"
        }
      ]
    },
    {
      "cell_type": "code",
      "metadata": {
        "id": "QycyI543WfVB"
      },
      "source": [
        "!unzip \\*.zip && rm *.zip"
      ],
      "execution_count": null,
      "outputs": []
    },
    {
      "cell_type": "markdown",
      "metadata": {
        "id": "hHj90Y6OaQc2"
      },
      "source": [
        "### Importing the Dataset"
      ]
    },
    {
      "cell_type": "code",
      "metadata": {
        "id": "nsMf_T-50orl"
      },
      "source": [
        "import pandas as pd\n",
        "import time"
      ],
      "execution_count": 1,
      "outputs": []
    },
    {
      "cell_type": "code",
      "metadata": {
        "id": "7aV1dz12XPO7",
        "colab": {
          "base_uri": "https://localhost:8080/"
        },
        "outputId": "7ffadbfd-0821-47e0-a227-cf2894501949"
      },
      "source": [
        "start_time = time.time()\n",
        "\n",
        "panda_df = pd.read_csv(\"/content/gdrive/My Drive/Kaggle/02-20-2018.csv\", dtype={'Active Mean': 'double', 'Active Std': 'double', 'Bwd IAT Max': 'double'}, delimiter = ',')\n",
        "\n",
        "end_time = time.time()\n",
        "execution_time = end_time - start_time\n",
        "print('Execution time using Pandas in seconds: '+ str(execution_time))"
      ],
      "execution_count": 2,
      "outputs": [
        {
          "output_type": "stream",
          "text": [
            "Execution time using Pandas in seconds: 107.0230028629303\n"
          ],
          "name": "stdout"
        }
      ]
    },
    {
      "cell_type": "code",
      "metadata": {
        "id": "E44y9ShNhB-z",
        "colab": {
          "base_uri": "https://localhost:8080/"
        },
        "outputId": "d40ae516-90a7-4dd7-ae85-7cd6b32ad461"
      },
      "source": [
        "!pip install dask[dataframe]"
      ],
      "execution_count": 17,
      "outputs": [
        {
          "output_type": "stream",
          "text": [
            "Requirement already satisfied: dask[dataframe] in /usr/local/lib/python3.7/dist-packages (2.12.0)\n",
            "Requirement already satisfied: toolz>=0.7.3; extra == \"dataframe\" in /usr/local/lib/python3.7/dist-packages (from dask[dataframe]) (0.11.1)\n",
            "Collecting partd>=0.3.10; extra == \"dataframe\"\n",
            "  Downloading https://files.pythonhosted.org/packages/41/94/360258a68b55f47859d72b2d0b2b3cfe0ca4fbbcb81b78812bd00ae86b7c/partd-1.2.0-py3-none-any.whl\n",
            "Requirement already satisfied: pandas>=0.23.0; extra == \"dataframe\" in /usr/local/lib/python3.7/dist-packages (from dask[dataframe]) (1.1.5)\n",
            "Requirement already satisfied: numpy>=1.13.0; extra == \"dataframe\" in /usr/local/lib/python3.7/dist-packages (from dask[dataframe]) (1.19.5)\n",
            "Collecting fsspec>=0.6.0; extra == \"dataframe\"\n",
            "\u001b[?25l  Downloading https://files.pythonhosted.org/packages/e9/91/2ef649137816850fa4f4c97c6f2eabb1a79bf0aa2c8ed198e387e373455e/fsspec-2021.4.0-py3-none-any.whl (108kB)\n",
            "\u001b[K     |████████████████████████████████| 112kB 3.8MB/s \n",
            "\u001b[?25hCollecting locket\n",
            "  Downloading https://files.pythonhosted.org/packages/50/b8/e789e45b9b9c2db75e9d9e6ceb022c8d1d7e49b2c085ce8c05600f90a96b/locket-0.2.1-py2.py3-none-any.whl\n",
            "Requirement already satisfied: python-dateutil>=2.7.3 in /usr/local/lib/python3.7/dist-packages (from pandas>=0.23.0; extra == \"dataframe\"->dask[dataframe]) (2.8.1)\n",
            "Requirement already satisfied: pytz>=2017.2 in /usr/local/lib/python3.7/dist-packages (from pandas>=0.23.0; extra == \"dataframe\"->dask[dataframe]) (2018.9)\n",
            "Requirement already satisfied: six>=1.5 in /usr/local/lib/python3.7/dist-packages (from python-dateutil>=2.7.3->pandas>=0.23.0; extra == \"dataframe\"->dask[dataframe]) (1.15.0)\n",
            "Installing collected packages: locket, partd, fsspec\n",
            "Successfully installed fsspec-2021.4.0 locket-0.2.1 partd-1.2.0\n"
          ],
          "name": "stdout"
        }
      ]
    },
    {
      "cell_type": "code",
      "metadata": {
        "colab": {
          "base_uri": "https://localhost:8080/"
        },
        "id": "Gvdk7b3FpdVE",
        "outputId": "75a794e7-a1e0-4d3f-e48b-61bae773d0e8"
      },
      "source": [
        "import dask.dataframe as dd\n",
        "\n",
        "start_time2 = time.time()\n",
        "\n",
        "dask_df = dd.read_csv(\"/content/gdrive/My Drive/Kaggle/02-20-2018.csv\")\n",
        "\n",
        "end_time2 = time.time()\n",
        "execution_time2 = end_time2 - start_time2\n",
        "print('Execution time using Dask in seconds: '+ str(execution_time2))"
      ],
      "execution_count": 3,
      "outputs": [
        {
          "output_type": "stream",
          "text": [
            "Execution time using Dask in seconds: 0.3253915309906006\n"
          ],
          "name": "stdout"
        }
      ]
    },
    {
      "cell_type": "markdown",
      "metadata": {
        "id": "K_KQusSSIGkV"
      },
      "source": [
        "We can see that using dask has resuted in a very significant speedup. Thus, we will be implementing our operation on the dask dataframe since our dataset has a size of over 3 GB."
      ]
    },
    {
      "cell_type": "code",
      "metadata": {
        "colab": {
          "base_uri": "https://localhost:8080/"
        },
        "id": "PKEmAnUafaGf",
        "outputId": "29a91636-0e16-46a0-81ed-a1754afd7ec9"
      },
      "source": [
        "dask_df.columns"
      ],
      "execution_count": 4,
      "outputs": [
        {
          "output_type": "execute_result",
          "data": {
            "text/plain": [
              "Index(['Flow ID', 'Src IP', 'Src Port', 'Dst IP', 'Dst Port', 'Protocol',\n",
              "       'Timestamp', 'Flow Duration', 'Tot Fwd Pkts', 'Tot Bwd Pkts',\n",
              "       'TotLen Fwd Pkts', 'TotLen Bwd Pkts', 'Fwd Pkt Len Max',\n",
              "       'Fwd Pkt Len Min', 'Fwd Pkt Len Mean', 'Fwd Pkt Len Std',\n",
              "       'Bwd Pkt Len Max', 'Bwd Pkt Len Min', 'Bwd Pkt Len Mean',\n",
              "       'Bwd Pkt Len Std', 'Flow Byts/s', 'Flow Pkts/s', 'Flow IAT Mean',\n",
              "       'Flow IAT Std', 'Flow IAT Max', 'Flow IAT Min', 'Fwd IAT Tot',\n",
              "       'Fwd IAT Mean', 'Fwd IAT Std', 'Fwd IAT Max', 'Fwd IAT Min',\n",
              "       'Bwd IAT Tot', 'Bwd IAT Mean', 'Bwd IAT Std', 'Bwd IAT Max',\n",
              "       'Bwd IAT Min', 'Fwd PSH Flags', 'Bwd PSH Flags', 'Fwd URG Flags',\n",
              "       'Bwd URG Flags', 'Fwd Header Len', 'Bwd Header Len', 'Fwd Pkts/s',\n",
              "       'Bwd Pkts/s', 'Pkt Len Min', 'Pkt Len Max', 'Pkt Len Mean',\n",
              "       'Pkt Len Std', 'Pkt Len Var', 'FIN Flag Cnt', 'SYN Flag Cnt',\n",
              "       'RST Flag Cnt', 'PSH Flag Cnt', 'ACK Flag Cnt', 'URG Flag Cnt',\n",
              "       'CWE Flag Count', 'ECE Flag Cnt', 'Down/Up Ratio', 'Pkt Size Avg',\n",
              "       'Fwd Seg Size Avg', 'Bwd Seg Size Avg', 'Fwd Byts/b Avg',\n",
              "       'Fwd Pkts/b Avg', 'Fwd Blk Rate Avg', 'Bwd Byts/b Avg',\n",
              "       'Bwd Pkts/b Avg', 'Bwd Blk Rate Avg', 'Subflow Fwd Pkts',\n",
              "       'Subflow Fwd Byts', 'Subflow Bwd Pkts', 'Subflow Bwd Byts',\n",
              "       'Init Fwd Win Byts', 'Init Bwd Win Byts', 'Fwd Act Data Pkts',\n",
              "       'Fwd Seg Size Min', 'Active Mean', 'Active Std', 'Active Max',\n",
              "       'Active Min', 'Idle Mean', 'Idle Std', 'Idle Max', 'Idle Min', 'Label'],\n",
              "      dtype='object')"
            ]
          },
          "metadata": {
            "tags": []
          },
          "execution_count": 4
        }
      ]
    },
    {
      "cell_type": "code",
      "metadata": {
        "id": "A4eDgqjBuUak"
      },
      "source": [
        "dask_df.columns = dask_df.columns.str.replace(' ', \"_\")"
      ],
      "execution_count": 5,
      "outputs": []
    },
    {
      "cell_type": "code",
      "metadata": {
        "colab": {
          "base_uri": "https://localhost:8080/"
        },
        "id": "71RmiNOKul40",
        "outputId": "84b1adaa-d70f-4bcf-de40-5fb9d71b0db6"
      },
      "source": [
        "dask_df.columns"
      ],
      "execution_count": 6,
      "outputs": [
        {
          "output_type": "execute_result",
          "data": {
            "text/plain": [
              "Index(['Flow_ID', 'Src_IP', 'Src_Port', 'Dst_IP', 'Dst_Port', 'Protocol',\n",
              "       'Timestamp', 'Flow_Duration', 'Tot_Fwd_Pkts', 'Tot_Bwd_Pkts',\n",
              "       'TotLen_Fwd_Pkts', 'TotLen_Bwd_Pkts', 'Fwd_Pkt_Len_Max',\n",
              "       'Fwd_Pkt_Len_Min', 'Fwd_Pkt_Len_Mean', 'Fwd_Pkt_Len_Std',\n",
              "       'Bwd_Pkt_Len_Max', 'Bwd_Pkt_Len_Min', 'Bwd_Pkt_Len_Mean',\n",
              "       'Bwd_Pkt_Len_Std', 'Flow_Byts/s', 'Flow_Pkts/s', 'Flow_IAT_Mean',\n",
              "       'Flow_IAT_Std', 'Flow_IAT_Max', 'Flow_IAT_Min', 'Fwd_IAT_Tot',\n",
              "       'Fwd_IAT_Mean', 'Fwd_IAT_Std', 'Fwd_IAT_Max', 'Fwd_IAT_Min',\n",
              "       'Bwd_IAT_Tot', 'Bwd_IAT_Mean', 'Bwd_IAT_Std', 'Bwd_IAT_Max',\n",
              "       'Bwd_IAT_Min', 'Fwd_PSH_Flags', 'Bwd_PSH_Flags', 'Fwd_URG_Flags',\n",
              "       'Bwd_URG_Flags', 'Fwd_Header_Len', 'Bwd_Header_Len', 'Fwd_Pkts/s',\n",
              "       'Bwd_Pkts/s', 'Pkt_Len_Min', 'Pkt_Len_Max', 'Pkt_Len_Mean',\n",
              "       'Pkt_Len_Std', 'Pkt_Len_Var', 'FIN_Flag_Cnt', 'SYN_Flag_Cnt',\n",
              "       'RST_Flag_Cnt', 'PSH_Flag_Cnt', 'ACK_Flag_Cnt', 'URG_Flag_Cnt',\n",
              "       'CWE_Flag_Count', 'ECE_Flag_Cnt', 'Down/Up_Ratio', 'Pkt_Size_Avg',\n",
              "       'Fwd_Seg_Size_Avg', 'Bwd_Seg_Size_Avg', 'Fwd_Byts/b_Avg',\n",
              "       'Fwd_Pkts/b_Avg', 'Fwd_Blk_Rate_Avg', 'Bwd_Byts/b_Avg',\n",
              "       'Bwd_Pkts/b_Avg', 'Bwd_Blk_Rate_Avg', 'Subflow_Fwd_Pkts',\n",
              "       'Subflow_Fwd_Byts', 'Subflow_Bwd_Pkts', 'Subflow_Bwd_Byts',\n",
              "       'Init_Fwd_Win_Byts', 'Init_Bwd_Win_Byts', 'Fwd_Act_Data_Pkts',\n",
              "       'Fwd_Seg_Size_Min', 'Active_Mean', 'Active_Std', 'Active_Max',\n",
              "       'Active_Min', 'Idle_Mean', 'Idle_Std', 'Idle_Max', 'Idle_Min', 'Label'],\n",
              "      dtype='object')"
            ]
          },
          "metadata": {
            "tags": []
          },
          "execution_count": 6
        }
      ]
    },
    {
      "cell_type": "code",
      "metadata": {
        "colab": {
          "base_uri": "https://localhost:8080/",
          "height": 289
        },
        "id": "c2mGzWiYv6RU",
        "outputId": "311dc2f0-0b64-4930-972b-11e01472fcf8"
      },
      "source": [
        "dask_df"
      ],
      "execution_count": 7,
      "outputs": [
        {
          "output_type": "execute_result",
          "data": {
            "text/html": [
              "<div><strong>Dask DataFrame Structure:</strong></div>\n",
              "<div>\n",
              "<style scoped>\n",
              "    .dataframe tbody tr th:only-of-type {\n",
              "        vertical-align: middle;\n",
              "    }\n",
              "\n",
              "    .dataframe tbody tr th {\n",
              "        vertical-align: top;\n",
              "    }\n",
              "\n",
              "    .dataframe thead th {\n",
              "        text-align: right;\n",
              "    }\n",
              "</style>\n",
              "<table border=\"1\" class=\"dataframe\">\n",
              "  <thead>\n",
              "    <tr style=\"text-align: right;\">\n",
              "      <th></th>\n",
              "      <th>Flow_ID</th>\n",
              "      <th>Src_IP</th>\n",
              "      <th>Src_Port</th>\n",
              "      <th>Dst_IP</th>\n",
              "      <th>Dst_Port</th>\n",
              "      <th>Protocol</th>\n",
              "      <th>Timestamp</th>\n",
              "      <th>Flow_Duration</th>\n",
              "      <th>Tot_Fwd_Pkts</th>\n",
              "      <th>Tot_Bwd_Pkts</th>\n",
              "      <th>TotLen_Fwd_Pkts</th>\n",
              "      <th>TotLen_Bwd_Pkts</th>\n",
              "      <th>Fwd_Pkt_Len_Max</th>\n",
              "      <th>Fwd_Pkt_Len_Min</th>\n",
              "      <th>Fwd_Pkt_Len_Mean</th>\n",
              "      <th>Fwd_Pkt_Len_Std</th>\n",
              "      <th>Bwd_Pkt_Len_Max</th>\n",
              "      <th>Bwd_Pkt_Len_Min</th>\n",
              "      <th>Bwd_Pkt_Len_Mean</th>\n",
              "      <th>Bwd_Pkt_Len_Std</th>\n",
              "      <th>Flow_Byts/s</th>\n",
              "      <th>Flow_Pkts/s</th>\n",
              "      <th>Flow_IAT_Mean</th>\n",
              "      <th>Flow_IAT_Std</th>\n",
              "      <th>Flow_IAT_Max</th>\n",
              "      <th>Flow_IAT_Min</th>\n",
              "      <th>Fwd_IAT_Tot</th>\n",
              "      <th>Fwd_IAT_Mean</th>\n",
              "      <th>Fwd_IAT_Std</th>\n",
              "      <th>Fwd_IAT_Max</th>\n",
              "      <th>Fwd_IAT_Min</th>\n",
              "      <th>Bwd_IAT_Tot</th>\n",
              "      <th>Bwd_IAT_Mean</th>\n",
              "      <th>Bwd_IAT_Std</th>\n",
              "      <th>Bwd_IAT_Max</th>\n",
              "      <th>Bwd_IAT_Min</th>\n",
              "      <th>Fwd_PSH_Flags</th>\n",
              "      <th>Bwd_PSH_Flags</th>\n",
              "      <th>Fwd_URG_Flags</th>\n",
              "      <th>Bwd_URG_Flags</th>\n",
              "      <th>Fwd_Header_Len</th>\n",
              "      <th>Bwd_Header_Len</th>\n",
              "      <th>Fwd_Pkts/s</th>\n",
              "      <th>Bwd_Pkts/s</th>\n",
              "      <th>Pkt_Len_Min</th>\n",
              "      <th>Pkt_Len_Max</th>\n",
              "      <th>Pkt_Len_Mean</th>\n",
              "      <th>Pkt_Len_Std</th>\n",
              "      <th>Pkt_Len_Var</th>\n",
              "      <th>FIN_Flag_Cnt</th>\n",
              "      <th>SYN_Flag_Cnt</th>\n",
              "      <th>RST_Flag_Cnt</th>\n",
              "      <th>PSH_Flag_Cnt</th>\n",
              "      <th>ACK_Flag_Cnt</th>\n",
              "      <th>URG_Flag_Cnt</th>\n",
              "      <th>CWE_Flag_Count</th>\n",
              "      <th>ECE_Flag_Cnt</th>\n",
              "      <th>Down/Up_Ratio</th>\n",
              "      <th>Pkt_Size_Avg</th>\n",
              "      <th>Fwd_Seg_Size_Avg</th>\n",
              "      <th>Bwd_Seg_Size_Avg</th>\n",
              "      <th>Fwd_Byts/b_Avg</th>\n",
              "      <th>Fwd_Pkts/b_Avg</th>\n",
              "      <th>Fwd_Blk_Rate_Avg</th>\n",
              "      <th>Bwd_Byts/b_Avg</th>\n",
              "      <th>Bwd_Pkts/b_Avg</th>\n",
              "      <th>Bwd_Blk_Rate_Avg</th>\n",
              "      <th>Subflow_Fwd_Pkts</th>\n",
              "      <th>Subflow_Fwd_Byts</th>\n",
              "      <th>Subflow_Bwd_Pkts</th>\n",
              "      <th>Subflow_Bwd_Byts</th>\n",
              "      <th>Init_Fwd_Win_Byts</th>\n",
              "      <th>Init_Bwd_Win_Byts</th>\n",
              "      <th>Fwd_Act_Data_Pkts</th>\n",
              "      <th>Fwd_Seg_Size_Min</th>\n",
              "      <th>Active_Mean</th>\n",
              "      <th>Active_Std</th>\n",
              "      <th>Active_Max</th>\n",
              "      <th>Active_Min</th>\n",
              "      <th>Idle_Mean</th>\n",
              "      <th>Idle_Std</th>\n",
              "      <th>Idle_Max</th>\n",
              "      <th>Idle_Min</th>\n",
              "      <th>Label</th>\n",
              "    </tr>\n",
              "    <tr>\n",
              "      <th>npartitions=64</th>\n",
              "      <th></th>\n",
              "      <th></th>\n",
              "      <th></th>\n",
              "      <th></th>\n",
              "      <th></th>\n",
              "      <th></th>\n",
              "      <th></th>\n",
              "      <th></th>\n",
              "      <th></th>\n",
              "      <th></th>\n",
              "      <th></th>\n",
              "      <th></th>\n",
              "      <th></th>\n",
              "      <th></th>\n",
              "      <th></th>\n",
              "      <th></th>\n",
              "      <th></th>\n",
              "      <th></th>\n",
              "      <th></th>\n",
              "      <th></th>\n",
              "      <th></th>\n",
              "      <th></th>\n",
              "      <th></th>\n",
              "      <th></th>\n",
              "      <th></th>\n",
              "      <th></th>\n",
              "      <th></th>\n",
              "      <th></th>\n",
              "      <th></th>\n",
              "      <th></th>\n",
              "      <th></th>\n",
              "      <th></th>\n",
              "      <th></th>\n",
              "      <th></th>\n",
              "      <th></th>\n",
              "      <th></th>\n",
              "      <th></th>\n",
              "      <th></th>\n",
              "      <th></th>\n",
              "      <th></th>\n",
              "      <th></th>\n",
              "      <th></th>\n",
              "      <th></th>\n",
              "      <th></th>\n",
              "      <th></th>\n",
              "      <th></th>\n",
              "      <th></th>\n",
              "      <th></th>\n",
              "      <th></th>\n",
              "      <th></th>\n",
              "      <th></th>\n",
              "      <th></th>\n",
              "      <th></th>\n",
              "      <th></th>\n",
              "      <th></th>\n",
              "      <th></th>\n",
              "      <th></th>\n",
              "      <th></th>\n",
              "      <th></th>\n",
              "      <th></th>\n",
              "      <th></th>\n",
              "      <th></th>\n",
              "      <th></th>\n",
              "      <th></th>\n",
              "      <th></th>\n",
              "      <th></th>\n",
              "      <th></th>\n",
              "      <th></th>\n",
              "      <th></th>\n",
              "      <th></th>\n",
              "      <th></th>\n",
              "      <th></th>\n",
              "      <th></th>\n",
              "      <th></th>\n",
              "      <th></th>\n",
              "      <th></th>\n",
              "      <th></th>\n",
              "      <th></th>\n",
              "      <th></th>\n",
              "      <th></th>\n",
              "      <th></th>\n",
              "      <th></th>\n",
              "      <th></th>\n",
              "      <th></th>\n",
              "    </tr>\n",
              "  </thead>\n",
              "  <tbody>\n",
              "    <tr>\n",
              "      <th></th>\n",
              "      <td>object</td>\n",
              "      <td>object</td>\n",
              "      <td>int64</td>\n",
              "      <td>object</td>\n",
              "      <td>int64</td>\n",
              "      <td>int64</td>\n",
              "      <td>object</td>\n",
              "      <td>int64</td>\n",
              "      <td>int64</td>\n",
              "      <td>int64</td>\n",
              "      <td>int64</td>\n",
              "      <td>int64</td>\n",
              "      <td>int64</td>\n",
              "      <td>int64</td>\n",
              "      <td>float64</td>\n",
              "      <td>float64</td>\n",
              "      <td>int64</td>\n",
              "      <td>int64</td>\n",
              "      <td>float64</td>\n",
              "      <td>float64</td>\n",
              "      <td>float64</td>\n",
              "      <td>float64</td>\n",
              "      <td>float64</td>\n",
              "      <td>float64</td>\n",
              "      <td>float64</td>\n",
              "      <td>float64</td>\n",
              "      <td>float64</td>\n",
              "      <td>float64</td>\n",
              "      <td>float64</td>\n",
              "      <td>float64</td>\n",
              "      <td>float64</td>\n",
              "      <td>float64</td>\n",
              "      <td>float64</td>\n",
              "      <td>float64</td>\n",
              "      <td>int64</td>\n",
              "      <td>int64</td>\n",
              "      <td>int64</td>\n",
              "      <td>int64</td>\n",
              "      <td>int64</td>\n",
              "      <td>int64</td>\n",
              "      <td>int64</td>\n",
              "      <td>int64</td>\n",
              "      <td>float64</td>\n",
              "      <td>float64</td>\n",
              "      <td>int64</td>\n",
              "      <td>int64</td>\n",
              "      <td>float64</td>\n",
              "      <td>float64</td>\n",
              "      <td>float64</td>\n",
              "      <td>int64</td>\n",
              "      <td>int64</td>\n",
              "      <td>int64</td>\n",
              "      <td>int64</td>\n",
              "      <td>int64</td>\n",
              "      <td>int64</td>\n",
              "      <td>int64</td>\n",
              "      <td>int64</td>\n",
              "      <td>int64</td>\n",
              "      <td>float64</td>\n",
              "      <td>float64</td>\n",
              "      <td>float64</td>\n",
              "      <td>int64</td>\n",
              "      <td>int64</td>\n",
              "      <td>int64</td>\n",
              "      <td>int64</td>\n",
              "      <td>int64</td>\n",
              "      <td>int64</td>\n",
              "      <td>int64</td>\n",
              "      <td>int64</td>\n",
              "      <td>int64</td>\n",
              "      <td>int64</td>\n",
              "      <td>int64</td>\n",
              "      <td>int64</td>\n",
              "      <td>int64</td>\n",
              "      <td>int64</td>\n",
              "      <td>int64</td>\n",
              "      <td>int64</td>\n",
              "      <td>int64</td>\n",
              "      <td>int64</td>\n",
              "      <td>float64</td>\n",
              "      <td>float64</td>\n",
              "      <td>float64</td>\n",
              "      <td>float64</td>\n",
              "      <td>object</td>\n",
              "    </tr>\n",
              "    <tr>\n",
              "      <th></th>\n",
              "      <td>...</td>\n",
              "      <td>...</td>\n",
              "      <td>...</td>\n",
              "      <td>...</td>\n",
              "      <td>...</td>\n",
              "      <td>...</td>\n",
              "      <td>...</td>\n",
              "      <td>...</td>\n",
              "      <td>...</td>\n",
              "      <td>...</td>\n",
              "      <td>...</td>\n",
              "      <td>...</td>\n",
              "      <td>...</td>\n",
              "      <td>...</td>\n",
              "      <td>...</td>\n",
              "      <td>...</td>\n",
              "      <td>...</td>\n",
              "      <td>...</td>\n",
              "      <td>...</td>\n",
              "      <td>...</td>\n",
              "      <td>...</td>\n",
              "      <td>...</td>\n",
              "      <td>...</td>\n",
              "      <td>...</td>\n",
              "      <td>...</td>\n",
              "      <td>...</td>\n",
              "      <td>...</td>\n",
              "      <td>...</td>\n",
              "      <td>...</td>\n",
              "      <td>...</td>\n",
              "      <td>...</td>\n",
              "      <td>...</td>\n",
              "      <td>...</td>\n",
              "      <td>...</td>\n",
              "      <td>...</td>\n",
              "      <td>...</td>\n",
              "      <td>...</td>\n",
              "      <td>...</td>\n",
              "      <td>...</td>\n",
              "      <td>...</td>\n",
              "      <td>...</td>\n",
              "      <td>...</td>\n",
              "      <td>...</td>\n",
              "      <td>...</td>\n",
              "      <td>...</td>\n",
              "      <td>...</td>\n",
              "      <td>...</td>\n",
              "      <td>...</td>\n",
              "      <td>...</td>\n",
              "      <td>...</td>\n",
              "      <td>...</td>\n",
              "      <td>...</td>\n",
              "      <td>...</td>\n",
              "      <td>...</td>\n",
              "      <td>...</td>\n",
              "      <td>...</td>\n",
              "      <td>...</td>\n",
              "      <td>...</td>\n",
              "      <td>...</td>\n",
              "      <td>...</td>\n",
              "      <td>...</td>\n",
              "      <td>...</td>\n",
              "      <td>...</td>\n",
              "      <td>...</td>\n",
              "      <td>...</td>\n",
              "      <td>...</td>\n",
              "      <td>...</td>\n",
              "      <td>...</td>\n",
              "      <td>...</td>\n",
              "      <td>...</td>\n",
              "      <td>...</td>\n",
              "      <td>...</td>\n",
              "      <td>...</td>\n",
              "      <td>...</td>\n",
              "      <td>...</td>\n",
              "      <td>...</td>\n",
              "      <td>...</td>\n",
              "      <td>...</td>\n",
              "      <td>...</td>\n",
              "      <td>...</td>\n",
              "      <td>...</td>\n",
              "      <td>...</td>\n",
              "      <td>...</td>\n",
              "      <td>...</td>\n",
              "    </tr>\n",
              "    <tr>\n",
              "      <th>...</th>\n",
              "      <td>...</td>\n",
              "      <td>...</td>\n",
              "      <td>...</td>\n",
              "      <td>...</td>\n",
              "      <td>...</td>\n",
              "      <td>...</td>\n",
              "      <td>...</td>\n",
              "      <td>...</td>\n",
              "      <td>...</td>\n",
              "      <td>...</td>\n",
              "      <td>...</td>\n",
              "      <td>...</td>\n",
              "      <td>...</td>\n",
              "      <td>...</td>\n",
              "      <td>...</td>\n",
              "      <td>...</td>\n",
              "      <td>...</td>\n",
              "      <td>...</td>\n",
              "      <td>...</td>\n",
              "      <td>...</td>\n",
              "      <td>...</td>\n",
              "      <td>...</td>\n",
              "      <td>...</td>\n",
              "      <td>...</td>\n",
              "      <td>...</td>\n",
              "      <td>...</td>\n",
              "      <td>...</td>\n",
              "      <td>...</td>\n",
              "      <td>...</td>\n",
              "      <td>...</td>\n",
              "      <td>...</td>\n",
              "      <td>...</td>\n",
              "      <td>...</td>\n",
              "      <td>...</td>\n",
              "      <td>...</td>\n",
              "      <td>...</td>\n",
              "      <td>...</td>\n",
              "      <td>...</td>\n",
              "      <td>...</td>\n",
              "      <td>...</td>\n",
              "      <td>...</td>\n",
              "      <td>...</td>\n",
              "      <td>...</td>\n",
              "      <td>...</td>\n",
              "      <td>...</td>\n",
              "      <td>...</td>\n",
              "      <td>...</td>\n",
              "      <td>...</td>\n",
              "      <td>...</td>\n",
              "      <td>...</td>\n",
              "      <td>...</td>\n",
              "      <td>...</td>\n",
              "      <td>...</td>\n",
              "      <td>...</td>\n",
              "      <td>...</td>\n",
              "      <td>...</td>\n",
              "      <td>...</td>\n",
              "      <td>...</td>\n",
              "      <td>...</td>\n",
              "      <td>...</td>\n",
              "      <td>...</td>\n",
              "      <td>...</td>\n",
              "      <td>...</td>\n",
              "      <td>...</td>\n",
              "      <td>...</td>\n",
              "      <td>...</td>\n",
              "      <td>...</td>\n",
              "      <td>...</td>\n",
              "      <td>...</td>\n",
              "      <td>...</td>\n",
              "      <td>...</td>\n",
              "      <td>...</td>\n",
              "      <td>...</td>\n",
              "      <td>...</td>\n",
              "      <td>...</td>\n",
              "      <td>...</td>\n",
              "      <td>...</td>\n",
              "      <td>...</td>\n",
              "      <td>...</td>\n",
              "      <td>...</td>\n",
              "      <td>...</td>\n",
              "      <td>...</td>\n",
              "      <td>...</td>\n",
              "      <td>...</td>\n",
              "    </tr>\n",
              "    <tr>\n",
              "      <th></th>\n",
              "      <td>...</td>\n",
              "      <td>...</td>\n",
              "      <td>...</td>\n",
              "      <td>...</td>\n",
              "      <td>...</td>\n",
              "      <td>...</td>\n",
              "      <td>...</td>\n",
              "      <td>...</td>\n",
              "      <td>...</td>\n",
              "      <td>...</td>\n",
              "      <td>...</td>\n",
              "      <td>...</td>\n",
              "      <td>...</td>\n",
              "      <td>...</td>\n",
              "      <td>...</td>\n",
              "      <td>...</td>\n",
              "      <td>...</td>\n",
              "      <td>...</td>\n",
              "      <td>...</td>\n",
              "      <td>...</td>\n",
              "      <td>...</td>\n",
              "      <td>...</td>\n",
              "      <td>...</td>\n",
              "      <td>...</td>\n",
              "      <td>...</td>\n",
              "      <td>...</td>\n",
              "      <td>...</td>\n",
              "      <td>...</td>\n",
              "      <td>...</td>\n",
              "      <td>...</td>\n",
              "      <td>...</td>\n",
              "      <td>...</td>\n",
              "      <td>...</td>\n",
              "      <td>...</td>\n",
              "      <td>...</td>\n",
              "      <td>...</td>\n",
              "      <td>...</td>\n",
              "      <td>...</td>\n",
              "      <td>...</td>\n",
              "      <td>...</td>\n",
              "      <td>...</td>\n",
              "      <td>...</td>\n",
              "      <td>...</td>\n",
              "      <td>...</td>\n",
              "      <td>...</td>\n",
              "      <td>...</td>\n",
              "      <td>...</td>\n",
              "      <td>...</td>\n",
              "      <td>...</td>\n",
              "      <td>...</td>\n",
              "      <td>...</td>\n",
              "      <td>...</td>\n",
              "      <td>...</td>\n",
              "      <td>...</td>\n",
              "      <td>...</td>\n",
              "      <td>...</td>\n",
              "      <td>...</td>\n",
              "      <td>...</td>\n",
              "      <td>...</td>\n",
              "      <td>...</td>\n",
              "      <td>...</td>\n",
              "      <td>...</td>\n",
              "      <td>...</td>\n",
              "      <td>...</td>\n",
              "      <td>...</td>\n",
              "      <td>...</td>\n",
              "      <td>...</td>\n",
              "      <td>...</td>\n",
              "      <td>...</td>\n",
              "      <td>...</td>\n",
              "      <td>...</td>\n",
              "      <td>...</td>\n",
              "      <td>...</td>\n",
              "      <td>...</td>\n",
              "      <td>...</td>\n",
              "      <td>...</td>\n",
              "      <td>...</td>\n",
              "      <td>...</td>\n",
              "      <td>...</td>\n",
              "      <td>...</td>\n",
              "      <td>...</td>\n",
              "      <td>...</td>\n",
              "      <td>...</td>\n",
              "      <td>...</td>\n",
              "    </tr>\n",
              "    <tr>\n",
              "      <th></th>\n",
              "      <td>...</td>\n",
              "      <td>...</td>\n",
              "      <td>...</td>\n",
              "      <td>...</td>\n",
              "      <td>...</td>\n",
              "      <td>...</td>\n",
              "      <td>...</td>\n",
              "      <td>...</td>\n",
              "      <td>...</td>\n",
              "      <td>...</td>\n",
              "      <td>...</td>\n",
              "      <td>...</td>\n",
              "      <td>...</td>\n",
              "      <td>...</td>\n",
              "      <td>...</td>\n",
              "      <td>...</td>\n",
              "      <td>...</td>\n",
              "      <td>...</td>\n",
              "      <td>...</td>\n",
              "      <td>...</td>\n",
              "      <td>...</td>\n",
              "      <td>...</td>\n",
              "      <td>...</td>\n",
              "      <td>...</td>\n",
              "      <td>...</td>\n",
              "      <td>...</td>\n",
              "      <td>...</td>\n",
              "      <td>...</td>\n",
              "      <td>...</td>\n",
              "      <td>...</td>\n",
              "      <td>...</td>\n",
              "      <td>...</td>\n",
              "      <td>...</td>\n",
              "      <td>...</td>\n",
              "      <td>...</td>\n",
              "      <td>...</td>\n",
              "      <td>...</td>\n",
              "      <td>...</td>\n",
              "      <td>...</td>\n",
              "      <td>...</td>\n",
              "      <td>...</td>\n",
              "      <td>...</td>\n",
              "      <td>...</td>\n",
              "      <td>...</td>\n",
              "      <td>...</td>\n",
              "      <td>...</td>\n",
              "      <td>...</td>\n",
              "      <td>...</td>\n",
              "      <td>...</td>\n",
              "      <td>...</td>\n",
              "      <td>...</td>\n",
              "      <td>...</td>\n",
              "      <td>...</td>\n",
              "      <td>...</td>\n",
              "      <td>...</td>\n",
              "      <td>...</td>\n",
              "      <td>...</td>\n",
              "      <td>...</td>\n",
              "      <td>...</td>\n",
              "      <td>...</td>\n",
              "      <td>...</td>\n",
              "      <td>...</td>\n",
              "      <td>...</td>\n",
              "      <td>...</td>\n",
              "      <td>...</td>\n",
              "      <td>...</td>\n",
              "      <td>...</td>\n",
              "      <td>...</td>\n",
              "      <td>...</td>\n",
              "      <td>...</td>\n",
              "      <td>...</td>\n",
              "      <td>...</td>\n",
              "      <td>...</td>\n",
              "      <td>...</td>\n",
              "      <td>...</td>\n",
              "      <td>...</td>\n",
              "      <td>...</td>\n",
              "      <td>...</td>\n",
              "      <td>...</td>\n",
              "      <td>...</td>\n",
              "      <td>...</td>\n",
              "      <td>...</td>\n",
              "      <td>...</td>\n",
              "      <td>...</td>\n",
              "    </tr>\n",
              "  </tbody>\n",
              "</table>\n",
              "</div>\n",
              "<div>Dask Name: rename, 256 tasks</div>"
            ],
            "text/plain": [
              "Dask DataFrame Structure:\n",
              "               Flow_ID  Src_IP Src_Port  Dst_IP Dst_Port Protocol Timestamp Flow_Duration Tot_Fwd_Pkts Tot_Bwd_Pkts TotLen_Fwd_Pkts TotLen_Bwd_Pkts Fwd_Pkt_Len_Max Fwd_Pkt_Len_Min Fwd_Pkt_Len_Mean Fwd_Pkt_Len_Std Bwd_Pkt_Len_Max Bwd_Pkt_Len_Min Bwd_Pkt_Len_Mean Bwd_Pkt_Len_Std Flow_Byts/s Flow_Pkts/s Flow_IAT_Mean Flow_IAT_Std Flow_IAT_Max Flow_IAT_Min Fwd_IAT_Tot Fwd_IAT_Mean Fwd_IAT_Std Fwd_IAT_Max Fwd_IAT_Min Bwd_IAT_Tot Bwd_IAT_Mean Bwd_IAT_Std Bwd_IAT_Max Bwd_IAT_Min Fwd_PSH_Flags Bwd_PSH_Flags Fwd_URG_Flags Bwd_URG_Flags Fwd_Header_Len Bwd_Header_Len Fwd_Pkts/s Bwd_Pkts/s Pkt_Len_Min Pkt_Len_Max Pkt_Len_Mean Pkt_Len_Std Pkt_Len_Var FIN_Flag_Cnt SYN_Flag_Cnt RST_Flag_Cnt PSH_Flag_Cnt ACK_Flag_Cnt URG_Flag_Cnt CWE_Flag_Count ECE_Flag_Cnt Down/Up_Ratio Pkt_Size_Avg Fwd_Seg_Size_Avg Bwd_Seg_Size_Avg Fwd_Byts/b_Avg Fwd_Pkts/b_Avg Fwd_Blk_Rate_Avg Bwd_Byts/b_Avg Bwd_Pkts/b_Avg Bwd_Blk_Rate_Avg Subflow_Fwd_Pkts Subflow_Fwd_Byts Subflow_Bwd_Pkts Subflow_Bwd_Byts Init_Fwd_Win_Byts Init_Bwd_Win_Byts Fwd_Act_Data_Pkts Fwd_Seg_Size_Min Active_Mean Active_Std Active_Max Active_Min Idle_Mean Idle_Std Idle_Max Idle_Min   Label\n",
              "npartitions=64                                                                                                                                                                                                                                                                                                                                                                                                                                                                                                                                                                                                                                                                                                                                                                                                                                                                                                                                                                                                                                                                                                                                                                 \n",
              "                object  object    int64  object    int64    int64    object         int64        int64        int64           int64           int64           int64           int64          float64         float64           int64           int64          float64         float64     float64     float64       float64      float64      float64      float64     float64      float64     float64     float64     float64     float64      float64     float64       int64       int64         int64         int64         int64         int64          int64          int64    float64    float64       int64       int64      float64     float64     float64        int64        int64        int64        int64        int64        int64          int64        int64         int64      float64          float64          float64          int64          int64            int64          int64          int64            int64            int64            int64            int64            int64             int64             int64             int64            int64       int64      int64      int64      int64   float64  float64  float64  float64  object\n",
              "                   ...     ...      ...     ...      ...      ...       ...           ...          ...          ...             ...             ...             ...             ...              ...             ...             ...             ...              ...             ...         ...         ...           ...          ...          ...          ...         ...          ...         ...         ...         ...         ...          ...         ...         ...         ...           ...           ...           ...           ...            ...            ...        ...        ...         ...         ...          ...         ...         ...          ...          ...          ...          ...          ...          ...            ...          ...           ...          ...              ...              ...            ...            ...              ...            ...            ...              ...              ...              ...              ...              ...               ...               ...               ...              ...         ...        ...        ...        ...       ...      ...      ...      ...     ...\n",
              "...                ...     ...      ...     ...      ...      ...       ...           ...          ...          ...             ...             ...             ...             ...              ...             ...             ...             ...              ...             ...         ...         ...           ...          ...          ...          ...         ...          ...         ...         ...         ...         ...          ...         ...         ...         ...           ...           ...           ...           ...            ...            ...        ...        ...         ...         ...          ...         ...         ...          ...          ...          ...          ...          ...          ...            ...          ...           ...          ...              ...              ...            ...            ...              ...            ...            ...              ...              ...              ...              ...              ...               ...               ...               ...              ...         ...        ...        ...        ...       ...      ...      ...      ...     ...\n",
              "                   ...     ...      ...     ...      ...      ...       ...           ...          ...          ...             ...             ...             ...             ...              ...             ...             ...             ...              ...             ...         ...         ...           ...          ...          ...          ...         ...          ...         ...         ...         ...         ...          ...         ...         ...         ...           ...           ...           ...           ...            ...            ...        ...        ...         ...         ...          ...         ...         ...          ...          ...          ...          ...          ...          ...            ...          ...           ...          ...              ...              ...            ...            ...              ...            ...            ...              ...              ...              ...              ...              ...               ...               ...               ...              ...         ...        ...        ...        ...       ...      ...      ...      ...     ...\n",
              "                   ...     ...      ...     ...      ...      ...       ...           ...          ...          ...             ...             ...             ...             ...              ...             ...             ...             ...              ...             ...         ...         ...           ...          ...          ...          ...         ...          ...         ...         ...         ...         ...          ...         ...         ...         ...           ...           ...           ...           ...            ...            ...        ...        ...         ...         ...          ...         ...         ...          ...          ...          ...          ...          ...          ...            ...          ...           ...          ...              ...              ...            ...            ...              ...            ...            ...              ...              ...              ...              ...              ...               ...               ...               ...              ...         ...        ...        ...        ...       ...      ...      ...      ...     ...\n",
              "Dask Name: rename, 256 tasks"
            ]
          },
          "metadata": {
            "tags": []
          },
          "execution_count": 7
        }
      ]
    },
    {
      "cell_type": "markdown",
      "metadata": {
        "id": "e85lVArNaaaF"
      },
      "source": [
        "### Creating the YAML file"
      ]
    },
    {
      "cell_type": "code",
      "metadata": {
        "colab": {
          "base_uri": "https://localhost:8080/"
        },
        "id": "RfMTyFTKDKFo",
        "outputId": "453dda80-d2a0-4911-c532-b0046e4ddbd3"
      },
      "source": [
        "!pip install schema"
      ],
      "execution_count": 26,
      "outputs": [
        {
          "output_type": "stream",
          "text": [
            "Collecting schema\n",
            "  Downloading https://files.pythonhosted.org/packages/c7/64/497632c9dc3c1bc94a92d9cafdc5cbd21d011bb651952765195739129a49/schema-0.7.4-py2.py3-none-any.whl\n",
            "Requirement already satisfied: contextlib2>=0.5.5 in /usr/local/lib/python3.7/dist-packages (from schema) (0.5.5)\n",
            "Installing collected packages: schema\n",
            "Successfully installed schema-0.7.4\n"
          ],
          "name": "stdout"
        }
      ]
    },
    {
      "cell_type": "code",
      "metadata": {
        "colab": {
          "base_uri": "https://localhost:8080/"
        },
        "id": "JnfCxXy-fzq6",
        "outputId": "93ab6fd9-c25e-4c68-87ee-aeba957f2a53"
      },
      "source": [
        "%%writefile testutility.py\n",
        "import logging\n",
        "import subprocess\n",
        "import datetime\n",
        "import gc\n",
        "import re\n",
        "from schema import Schema, SchemaError\n",
        "import yaml\n",
        "import os\n",
        "\n",
        "def read_yml_file(file_path):\n",
        "    with open(file_path, 'r') as stream:\n",
        "      try:\n",
        "          return yaml.safe_load(stream)\n",
        "      except yaml.YAMLError as exec:\n",
        "          logging.error(exec)\n",
        "\n",
        "def substitutor(string, char):\n",
        "  pattern = char + '{2,}'\n",
        "  string = re.sub(pattern, char, string)\n",
        "  return string\n",
        "\n",
        "def replacer(string, char):\n",
        "  pattern = char + '{2,}'\n",
        "  string = re.sub(pattern, char, string) \n",
        "  return string\n",
        "\n",
        "def col_validate(df, col_config):\n",
        "  colms = df.columns\n",
        "  colms = colms.str.replace(' ','_')\n",
        "  #colms = list(map(lambda x: x.strip('_'), list(colms)))\n",
        "  colms = list(map(lambda x: replacer(x,'_'), list(colms)))\n",
        "  expected_col = list(map(lambda x: x.lower(),  col_config['columns']))\n",
        "  colms = list(map(lambda x: x.lower(), list(colms)))\n",
        "\n",
        "  print(\"real: \", colms)\n",
        "  print(\"exp: \", expected_col)\n",
        "\n",
        "  if len(colms) == len(expected_col) and list(colms) == list(expected_col):\n",
        "    print(\"\\nColumn name and column length are successfully validated!\")\n",
        "    return 1\n",
        "\n",
        "  else:\n",
        "    print(\"Column name and column length have not passed the validation test\")\n",
        "    mismatched_columns = list(set(colms).difference(expected_col))\n",
        "    print(\"The following columns are missing from the YAML file\", mismatched_columns)\n",
        "    missing_file = list(set(expected_col).difference(colms))\n",
        "    print(\"The followning columns are missing from the file uploaded\", missing_file)\n",
        "    logging.info(f'df columns: {colms}')\n",
        "    logging.info(f'expected columns: {expected_col}')\n",
        "    return 0\n",
        "    \n",
        "def stats(df, config_data):\n",
        "  col_number = df.shape[1]\n",
        "  row_number = df.shape[0] \n",
        "  print(\"\\nStatistics About the Dataset:\")\n",
        "  print(\"Number of columns is: \", col_number)\n",
        "  print(\"Number of rows is: \", row_number)\n",
        "  size = os.path.getsize('/content/gdrive/My Drive/Kaggle/02-20-2018.csv')\n",
        "  GB_size = size/(1024*1024*1024)\n",
        "  print(\"Size of the file is: \", round(GB_size, 3), \"GB\")\n",
        "\n",
        "def save2gz(df):\n",
        "  df.to_csv(\"dataset.gz\", sep = '|', compression = 'gzip')\n",
        "  success = \"Dataset was compressed and saved in compressed_dataset.gz\"\n",
        "  return success"
      ],
      "execution_count": 8,
      "outputs": [
        {
          "output_type": "stream",
          "text": [
            "Writing testutility.py\n"
          ],
          "name": "stdout"
        }
      ]
    },
    {
      "cell_type": "code",
      "metadata": {
        "id": "GW51WBh1eKrl",
        "colab": {
          "base_uri": "https://localhost:8080/"
        },
        "outputId": "0e5610eb-73a7-4da8-9ce5-64f8785981a6"
      },
      "source": [
        "%%writefile dataset.yaml\n",
        "file_type: csv\n",
        "dataset_name: intrusions\n",
        "file_name: 02-20-2018\n",
        "table_name: 20th_of_April\n",
        "inbound_delimiter: \",\"\n",
        "outbound_delimiter: \"|\"\n",
        "skip_leading_rows: 1\n",
        "columns:\n",
        " - flow_id\n",
        " - src_ip\n",
        " - src_port\n",
        " - dst_ip\n",
        " - dst_port\n",
        " - protocol\n",
        " - timestamp\n",
        " - flow_duration\n",
        " - tot_fwd_pkts\n",
        " - tot_bwd_pkts\n",
        " - totlen_fwd_pkts\n",
        " - totlen_bwd_pkts\n",
        " - fwd_pkt_len_max\n",
        " - fwd_pkt_len_min\n",
        " - fwd_pkt_len_mean\n",
        " - fwd_pkt_len_std\n",
        " - bwd_pkt_len_max\n",
        " - bwd_pkt_len_min\n",
        " - bwd_pkt_len_mean\n",
        " - bwd_pkt_len_std\n",
        " - flow_byts/s\n",
        " - flow_pkts/s\n",
        " - flow_iat_mean\n",
        " - flow_iat_std\n",
        " - flow_iat_max\n",
        " - flow_iat_min\n",
        " - fwd_iat_tot\n",
        " - fwd_iat_mean\n",
        " - fwd_iat_std\n",
        " - fwd_iat_max\n",
        " - fwd_iat_min\n",
        " - bwd_iat_tot\n",
        " - bwd_iat_mean\n",
        " - bwd_iat_std\n",
        " - bwd_iat_max\n",
        " - bwd_iat_min\n",
        " - fwd_psh_flags\n",
        " - bwd_psh_flags\n",
        " - fwd_urg_flags\n",
        " - bwd_urg_flags\n",
        " - fwd_header_len\n",
        " - bwd_header_len\n",
        " - fwd_pkts/s\n",
        " - bwd_pkts/s\n",
        " - pkt_len_min\n",
        " - pkt_len_max\n",
        " - pkt_len_mean\n",
        " - pkt_len_std\n",
        " - pkt_len_var\n",
        " - fin_flag_cnt\n",
        " - syn_flag_cnt\n",
        " - rst_flag_cnt\n",
        " - psh_flag_cnt\n",
        " - ack_flag_cnt\n",
        " - urg_flag_cnt\n",
        " - cwe_flag_count\n",
        " - ece_flag_cnt\n",
        " - down/up_ratio\n",
        " - pkt_size_avg\n",
        " - fwd_seg_size_avg\n",
        " - bwd_seg_size_avg\n",
        " - fwd_byts/b_avg\n",
        " - fwd_pkts/b_avg\n",
        " - fwd_blk_rate_avg\n",
        " - bwd_byts/b_avg\n",
        " - bwd_pkts/b_avg\n",
        " - bwd_blk_rate_avg\n",
        " - subflow_fwd_pkts\n",
        " - subflow_fwd_byts\n",
        " - subflow_bwd_pkts\n",
        " - subflow_bwd_byts\n",
        " - init_fwd_win_byts\n",
        " - init_bwd_win_byts\n",
        " - fwd_act_data_pkts\n",
        " - fwd_seg_size_min\n",
        " - active_mean\n",
        " - active_std\n",
        " - active_max\n",
        " - active_min\n",
        " - idle_mean\n",
        " - idle_std\n",
        " - idle_max\n",
        " - idle_min\n",
        " - label"
      ],
      "execution_count": 9,
      "outputs": [
        {
          "output_type": "stream",
          "text": [
            "Writing dataset.yaml\n"
          ],
          "name": "stdout"
        }
      ]
    },
    {
      "cell_type": "markdown",
      "metadata": {
        "id": "jHfsVhhMeytQ"
      },
      "source": [
        "### Reading the Config File"
      ]
    },
    {
      "cell_type": "code",
      "metadata": {
        "id": "fb1UBPk7DE5c"
      },
      "source": [
        " import testutility as util\n",
        " config_data = util.read_yml_file(\"dataset.yaml\")"
      ],
      "execution_count": 10,
      "outputs": []
    },
    {
      "cell_type": "code",
      "metadata": {
        "colab": {
          "base_uri": "https://localhost:8080/"
        },
        "id": "56y-kGRDgtbV",
        "outputId": "49645751-a992-43d4-cda2-9fa9a0c51597"
      },
      "source": [
        "config_data"
      ],
      "execution_count": 11,
      "outputs": [
        {
          "output_type": "execute_result",
          "data": {
            "text/plain": [
              "{'columns': ['flow_id',\n",
              "  'src_ip',\n",
              "  'src_port',\n",
              "  'dst_ip',\n",
              "  'dst_port',\n",
              "  'protocol',\n",
              "  'timestamp',\n",
              "  'flow_duration',\n",
              "  'tot_fwd_pkts',\n",
              "  'tot_bwd_pkts',\n",
              "  'totlen_fwd_pkts',\n",
              "  'totlen_bwd_pkts',\n",
              "  'fwd_pkt_len_max',\n",
              "  'fwd_pkt_len_min',\n",
              "  'fwd_pkt_len_mean',\n",
              "  'fwd_pkt_len_std',\n",
              "  'bwd_pkt_len_max',\n",
              "  'bwd_pkt_len_min',\n",
              "  'bwd_pkt_len_mean',\n",
              "  'bwd_pkt_len_std',\n",
              "  'flow_byts/s',\n",
              "  'flow_pkts/s',\n",
              "  'flow_iat_mean',\n",
              "  'flow_iat_std',\n",
              "  'flow_iat_max',\n",
              "  'flow_iat_min',\n",
              "  'fwd_iat_tot',\n",
              "  'fwd_iat_mean',\n",
              "  'fwd_iat_std',\n",
              "  'fwd_iat_max',\n",
              "  'fwd_iat_min',\n",
              "  'bwd_iat_tot',\n",
              "  'bwd_iat_mean',\n",
              "  'bwd_iat_std',\n",
              "  'bwd_iat_max',\n",
              "  'bwd_iat_min',\n",
              "  'fwd_psh_flags',\n",
              "  'bwd_psh_flags',\n",
              "  'fwd_urg_flags',\n",
              "  'bwd_urg_flags',\n",
              "  'fwd_header_len',\n",
              "  'bwd_header_len',\n",
              "  'fwd_pkts/s',\n",
              "  'bwd_pkts/s',\n",
              "  'pkt_len_min',\n",
              "  'pkt_len_max',\n",
              "  'pkt_len_mean',\n",
              "  'pkt_len_std',\n",
              "  'pkt_len_var',\n",
              "  'fin_flag_cnt',\n",
              "  'syn_flag_cnt',\n",
              "  'rst_flag_cnt',\n",
              "  'psh_flag_cnt',\n",
              "  'ack_flag_cnt',\n",
              "  'urg_flag_cnt',\n",
              "  'cwe_flag_count',\n",
              "  'ece_flag_cnt',\n",
              "  'down/up_ratio',\n",
              "  'pkt_size_avg',\n",
              "  'fwd_seg_size_avg',\n",
              "  'bwd_seg_size_avg',\n",
              "  'fwd_byts/b_avg',\n",
              "  'fwd_pkts/b_avg',\n",
              "  'fwd_blk_rate_avg',\n",
              "  'bwd_byts/b_avg',\n",
              "  'bwd_pkts/b_avg',\n",
              "  'bwd_blk_rate_avg',\n",
              "  'subflow_fwd_pkts',\n",
              "  'subflow_fwd_byts',\n",
              "  'subflow_bwd_pkts',\n",
              "  'subflow_bwd_byts',\n",
              "  'init_fwd_win_byts',\n",
              "  'init_bwd_win_byts',\n",
              "  'fwd_act_data_pkts',\n",
              "  'fwd_seg_size_min',\n",
              "  'active_mean',\n",
              "  'active_std',\n",
              "  'active_max',\n",
              "  'active_min',\n",
              "  'idle_mean',\n",
              "  'idle_std',\n",
              "  'idle_max',\n",
              "  'idle_min',\n",
              "  'label'],\n",
              " 'dataset_name': 'intrusions',\n",
              " 'file_name': '02-20-2018',\n",
              " 'file_type': 'csv',\n",
              " 'inbound_delimiter': ',',\n",
              " 'outbound_delimiter': '|',\n",
              " 'skip_leading_rows': 1,\n",
              " 'table_name': '20th_of_April'}"
            ]
          },
          "metadata": {
            "tags": []
          },
          "execution_count": 11
        }
      ]
    },
    {
      "cell_type": "code",
      "metadata": {
        "colab": {
          "base_uri": "https://localhost:8080/"
        },
        "id": "NFYtKqa2jOLz",
        "outputId": "7b491caa-d293-4723-a533-346bfb674a62"
      },
      "source": [
        "src_file = \"./\"+config_data['file_name']+\".\"+config_data['file_type']\n",
        "#print(src_file)\n",
        "df_dask = dd.read_csv(\"/content/gdrive/My Drive/Kaggle/\"+src_file)\n",
        "df_dask.head"
      ],
      "execution_count": 12,
      "outputs": [
        {
          "output_type": "execute_result",
          "data": {
            "text/plain": [
              "<bound method _Frame.head of Dask DataFrame Structure:\n",
              "               Flow ID  Src IP Src Port  Dst IP Dst Port Protocol Timestamp Flow Duration Tot Fwd Pkts Tot Bwd Pkts TotLen Fwd Pkts TotLen Bwd Pkts Fwd Pkt Len Max Fwd Pkt Len Min Fwd Pkt Len Mean Fwd Pkt Len Std Bwd Pkt Len Max Bwd Pkt Len Min Bwd Pkt Len Mean Bwd Pkt Len Std Flow Byts/s Flow Pkts/s Flow IAT Mean Flow IAT Std Flow IAT Max Flow IAT Min Fwd IAT Tot Fwd IAT Mean Fwd IAT Std Fwd IAT Max Fwd IAT Min Bwd IAT Tot Bwd IAT Mean Bwd IAT Std Bwd IAT Max Bwd IAT Min Fwd PSH Flags Bwd PSH Flags Fwd URG Flags Bwd URG Flags Fwd Header Len Bwd Header Len Fwd Pkts/s Bwd Pkts/s Pkt Len Min Pkt Len Max Pkt Len Mean Pkt Len Std Pkt Len Var FIN Flag Cnt SYN Flag Cnt RST Flag Cnt PSH Flag Cnt ACK Flag Cnt URG Flag Cnt CWE Flag Count ECE Flag Cnt Down/Up Ratio Pkt Size Avg Fwd Seg Size Avg Bwd Seg Size Avg Fwd Byts/b Avg Fwd Pkts/b Avg Fwd Blk Rate Avg Bwd Byts/b Avg Bwd Pkts/b Avg Bwd Blk Rate Avg Subflow Fwd Pkts Subflow Fwd Byts Subflow Bwd Pkts Subflow Bwd Byts Init Fwd Win Byts Init Bwd Win Byts Fwd Act Data Pkts Fwd Seg Size Min Active Mean Active Std Active Max Active Min Idle Mean Idle Std Idle Max Idle Min   Label\n",
              "npartitions=64                                                                                                                                                                                                                                                                                                                                                                                                                                                                                                                                                                                                                                                                                                                                                                                                                                                                                                                                                                                                                                                                                                                                                                 \n",
              "                object  object    int64  object    int64    int64    object         int64        int64        int64           int64           int64           int64           int64          float64         float64           int64           int64          float64         float64     float64     float64       float64      float64      float64      float64     float64      float64     float64     float64     float64     float64      float64     float64       int64       int64         int64         int64         int64         int64          int64          int64    float64    float64       int64       int64      float64     float64     float64        int64        int64        int64        int64        int64        int64          int64        int64         int64      float64          float64          float64          int64          int64            int64          int64          int64            int64            int64            int64            int64            int64             int64             int64             int64            int64       int64      int64      int64      int64   float64  float64  float64  float64  object\n",
              "                   ...     ...      ...     ...      ...      ...       ...           ...          ...          ...             ...             ...             ...             ...              ...             ...             ...             ...              ...             ...         ...         ...           ...          ...          ...          ...         ...          ...         ...         ...         ...         ...          ...         ...         ...         ...           ...           ...           ...           ...            ...            ...        ...        ...         ...         ...          ...         ...         ...          ...          ...          ...          ...          ...          ...            ...          ...           ...          ...              ...              ...            ...            ...              ...            ...            ...              ...              ...              ...              ...              ...               ...               ...               ...              ...         ...        ...        ...        ...       ...      ...      ...      ...     ...\n",
              "...                ...     ...      ...     ...      ...      ...       ...           ...          ...          ...             ...             ...             ...             ...              ...             ...             ...             ...              ...             ...         ...         ...           ...          ...          ...          ...         ...          ...         ...         ...         ...         ...          ...         ...         ...         ...           ...           ...           ...           ...            ...            ...        ...        ...         ...         ...          ...         ...         ...          ...          ...          ...          ...          ...          ...            ...          ...           ...          ...              ...              ...            ...            ...              ...            ...            ...              ...              ...              ...              ...              ...               ...               ...               ...              ...         ...        ...        ...        ...       ...      ...      ...      ...     ...\n",
              "                   ...     ...      ...     ...      ...      ...       ...           ...          ...          ...             ...             ...             ...             ...              ...             ...             ...             ...              ...             ...         ...         ...           ...          ...          ...          ...         ...          ...         ...         ...         ...         ...          ...         ...         ...         ...           ...           ...           ...           ...            ...            ...        ...        ...         ...         ...          ...         ...         ...          ...          ...          ...          ...          ...          ...            ...          ...           ...          ...              ...              ...            ...            ...              ...            ...            ...              ...              ...              ...              ...              ...               ...               ...               ...              ...         ...        ...        ...        ...       ...      ...      ...      ...     ...\n",
              "                   ...     ...      ...     ...      ...      ...       ...           ...          ...          ...             ...             ...             ...             ...              ...             ...             ...             ...              ...             ...         ...         ...           ...          ...          ...          ...         ...          ...         ...         ...         ...         ...          ...         ...         ...         ...           ...           ...           ...           ...            ...            ...        ...        ...         ...         ...          ...         ...         ...          ...          ...          ...          ...          ...          ...            ...          ...           ...          ...              ...              ...            ...            ...              ...            ...            ...              ...              ...              ...              ...              ...               ...               ...               ...              ...         ...        ...        ...        ...       ...      ...      ...      ...     ...\n",
              "Dask Name: from-delayed, 192 tasks>"
            ]
          },
          "metadata": {
            "tags": []
          },
          "execution_count": 12
        }
      ]
    },
    {
      "cell_type": "markdown",
      "metadata": {
        "id": "2zSB0vjX02Kw"
      },
      "source": [
        "### Checking the Validity and Writing to .gz File"
      ]
    },
    {
      "cell_type": "code",
      "metadata": {
        "colab": {
          "base_uri": "https://localhost:8080/"
        },
        "id": "KEXKlLvF-10u",
        "outputId": "ad9ce0a1-a47c-4f70-b8ff-e4b19333f73a"
      },
      "source": [
        "if util.col_validate(panda_df, config_data)==0:\n",
        "  print(\"Validation failed\")\n",
        "else:\n",
        "  print(\"\\nValidation completed successfully!\")\n",
        "  util.stats(panda_df, config_data)"
      ],
      "execution_count": 14,
      "outputs": [
        {
          "output_type": "stream",
          "text": [
            "real:  ['flow_id', 'src_ip', 'src_port', 'dst_ip', 'dst_port', 'protocol', 'timestamp', 'flow_duration', 'tot_fwd_pkts', 'tot_bwd_pkts', 'totlen_fwd_pkts', 'totlen_bwd_pkts', 'fwd_pkt_len_max', 'fwd_pkt_len_min', 'fwd_pkt_len_mean', 'fwd_pkt_len_std', 'bwd_pkt_len_max', 'bwd_pkt_len_min', 'bwd_pkt_len_mean', 'bwd_pkt_len_std', 'flow_byts/s', 'flow_pkts/s', 'flow_iat_mean', 'flow_iat_std', 'flow_iat_max', 'flow_iat_min', 'fwd_iat_tot', 'fwd_iat_mean', 'fwd_iat_std', 'fwd_iat_max', 'fwd_iat_min', 'bwd_iat_tot', 'bwd_iat_mean', 'bwd_iat_std', 'bwd_iat_max', 'bwd_iat_min', 'fwd_psh_flags', 'bwd_psh_flags', 'fwd_urg_flags', 'bwd_urg_flags', 'fwd_header_len', 'bwd_header_len', 'fwd_pkts/s', 'bwd_pkts/s', 'pkt_len_min', 'pkt_len_max', 'pkt_len_mean', 'pkt_len_std', 'pkt_len_var', 'fin_flag_cnt', 'syn_flag_cnt', 'rst_flag_cnt', 'psh_flag_cnt', 'ack_flag_cnt', 'urg_flag_cnt', 'cwe_flag_count', 'ece_flag_cnt', 'down/up_ratio', 'pkt_size_avg', 'fwd_seg_size_avg', 'bwd_seg_size_avg', 'fwd_byts/b_avg', 'fwd_pkts/b_avg', 'fwd_blk_rate_avg', 'bwd_byts/b_avg', 'bwd_pkts/b_avg', 'bwd_blk_rate_avg', 'subflow_fwd_pkts', 'subflow_fwd_byts', 'subflow_bwd_pkts', 'subflow_bwd_byts', 'init_fwd_win_byts', 'init_bwd_win_byts', 'fwd_act_data_pkts', 'fwd_seg_size_min', 'active_mean', 'active_std', 'active_max', 'active_min', 'idle_mean', 'idle_std', 'idle_max', 'idle_min', 'label']\n",
            "exp:  ['flow_id', 'src_ip', 'src_port', 'dst_ip', 'dst_port', 'protocol', 'timestamp', 'flow_duration', 'tot_fwd_pkts', 'tot_bwd_pkts', 'totlen_fwd_pkts', 'totlen_bwd_pkts', 'fwd_pkt_len_max', 'fwd_pkt_len_min', 'fwd_pkt_len_mean', 'fwd_pkt_len_std', 'bwd_pkt_len_max', 'bwd_pkt_len_min', 'bwd_pkt_len_mean', 'bwd_pkt_len_std', 'flow_byts/s', 'flow_pkts/s', 'flow_iat_mean', 'flow_iat_std', 'flow_iat_max', 'flow_iat_min', 'fwd_iat_tot', 'fwd_iat_mean', 'fwd_iat_std', 'fwd_iat_max', 'fwd_iat_min', 'bwd_iat_tot', 'bwd_iat_mean', 'bwd_iat_std', 'bwd_iat_max', 'bwd_iat_min', 'fwd_psh_flags', 'bwd_psh_flags', 'fwd_urg_flags', 'bwd_urg_flags', 'fwd_header_len', 'bwd_header_len', 'fwd_pkts/s', 'bwd_pkts/s', 'pkt_len_min', 'pkt_len_max', 'pkt_len_mean', 'pkt_len_std', 'pkt_len_var', 'fin_flag_cnt', 'syn_flag_cnt', 'rst_flag_cnt', 'psh_flag_cnt', 'ack_flag_cnt', 'urg_flag_cnt', 'cwe_flag_count', 'ece_flag_cnt', 'down/up_ratio', 'pkt_size_avg', 'fwd_seg_size_avg', 'bwd_seg_size_avg', 'fwd_byts/b_avg', 'fwd_pkts/b_avg', 'fwd_blk_rate_avg', 'bwd_byts/b_avg', 'bwd_pkts/b_avg', 'bwd_blk_rate_avg', 'subflow_fwd_pkts', 'subflow_fwd_byts', 'subflow_bwd_pkts', 'subflow_bwd_byts', 'init_fwd_win_byts', 'init_bwd_win_byts', 'fwd_act_data_pkts', 'fwd_seg_size_min', 'active_mean', 'active_std', 'active_max', 'active_min', 'idle_mean', 'idle_std', 'idle_max', 'idle_min', 'label']\n",
            "\n",
            "Column name and column length are successfully validated!\n",
            "\n",
            "Validation completed successfully!\n",
            "\n",
            "Statistics About the Dataset:\n",
            "Number of columns is:  84\n",
            "Number of rows is:  7948748\n",
            "Size of the file is:  3.776 GB\n"
          ],
          "name": "stdout"
        }
      ]
    },
    {
      "cell_type": "code",
      "metadata": {
        "id": "ZxRhkcG51UeP",
        "colab": {
          "base_uri": "https://localhost:8080/",
          "height": 35
        },
        "outputId": "568998c8-6dc8-49d1-fdaa-6d128cedf119"
      },
      "source": [
        "util.save2gz(panda_df)"
      ],
      "execution_count": 15,
      "outputs": [
        {
          "output_type": "execute_result",
          "data": {
            "application/vnd.google.colaboratory.intrinsic+json": {
              "type": "string"
            },
            "text/plain": [
              "'Dataset was compressed and saved in compressed_dataset.gz'"
            ]
          },
          "metadata": {
            "tags": []
          },
          "execution_count": 15
        }
      ]
    },
    {
      "cell_type": "code",
      "metadata": {
        "id": "-7JtUylPt3C4"
      },
      "source": [
        ""
      ],
      "execution_count": null,
      "outputs": []
    }
  ]
}